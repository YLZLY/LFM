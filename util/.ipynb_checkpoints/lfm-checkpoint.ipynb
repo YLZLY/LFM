{
 "cells": [
  {
   "cell_type": "code",
   "execution_count": 1,
   "metadata": {},
   "outputs": [],
   "source": [
    "#-*-coding:utf8-*-\n",
    "\n",
    "\"\"\"\n",
    "author:YJM\n",
    "date:20190420\n",
    "util function\n",
    "\n",
    "\"\"\"\n",
    "import os\n",
    "import sys\n",
    "import numpy as np\n",
    "import pandas as pd\n",
    "import operator"
   ]
  },
  {
   "cell_type": "code",
   "execution_count": 2,
   "metadata": {},
   "outputs": [],
   "source": [
    "if sys.version_info[0] > 2:\n",
    "    is_py3 = True\n",
    "else:\n",
    "    reload(sys)\n",
    "    sys.setdefaultencoding(\"utf-8\")\n",
    "    is_py3 = False\n"
   ]
  },
  {
   "cell_type": "markdown",
   "metadata": {},
   "source": [
    "### 通过movies.csv获取电影信息"
   ]
  },
  {
   "cell_type": "code",
   "execution_count": 3,
   "metadata": {},
   "outputs": [],
   "source": [
    "def get_item_info(input_file): \n",
    "    \"\"\"\n",
    "    Args:\n",
    "        input_file:item info file\n",
    "    Return：\n",
    "        a dict:key itemid,value:[title,genre]\n",
    "    \"\"\"\n",
    "#     首先确定是否路径存在文件\n",
    "    if not os.path.exists(input_file):\n",
    "        return {}\n",
    "    item_info={}\n",
    "    linenum=0\n",
    "#     读取文件过程\n",
    "    fp = open(input_file)\n",
    "    for line in fp:\n",
    "#         第一行是表头不要\n",
    "        if linenum == 0:\n",
    "            linenum += 1\n",
    "            continue\n",
    "        item = line.strip().split(',')\n",
    "        if len(item)<3:\n",
    "            continue#这里过滤掉的是不符合要求的数据\n",
    "        elif len(item) == 3:\n",
    "            itemid,title,genre = item[0],item[1],item[2]\n",
    "        elif len(item)>3:#主要是为了处理标题中也可能有','的情况\n",
    "            itemid = item[0]\n",
    "            genre = item[-1]\n",
    "            title = ','.join(item[1:-1])#将被误分的选项都拼回来\n",
    "        item_info[itemid]=[title,genre]\n",
    "    fp.closed\n",
    "    return item_info"
   ]
  },
  {
   "cell_type": "code",
   "execution_count": 4,
   "metadata": {},
   "outputs": [],
   "source": [
    "item_dict = get_item_info(\"../data/movies.csv\")\n",
    "# item_dict"
   ]
  },
  {
   "cell_type": "markdown",
   "metadata": {},
   "source": [
    "### 通过ratings15000.csv获取平均分"
   ]
  },
  {
   "cell_type": "code",
   "execution_count": 5,
   "metadata": {},
   "outputs": [],
   "source": [
    "def get_ave_score(input_file):\n",
    "    \"\"\"\n",
    "    Args:\n",
    "        input_file:item info file\n",
    "    Return:\n",
    "        dict:{itemid : avg_score}\n",
    "    \"\"\"\n",
    "    if not os.path.exists(input_file):\n",
    "        return {}\n",
    "    linenum = 0\n",
    "    record_dict = {}#用来记录物品被多少人打分过和物品总得分是多少\n",
    "    score_dict = {}\n",
    "    fp = open(input_file)\n",
    "    for line in fp:\n",
    "        if linenum == 0:\n",
    "            linenum += 1\n",
    "            continue\n",
    "        item = line.strip().split(',')\n",
    "        if len(item)<4:\n",
    "            continue\n",
    "        userid,itemid,rating = item[0],item[1],float(item[2])\n",
    "        if itemid not in record_dict:\n",
    "            record_dict[itemid]=[0,0]#被多少人打分过，以及总分是多少\n",
    "        record_dict[itemid][0] += 1#每有一次打分就加一\n",
    "        record_dict[itemid][1] += rating#每多一个人就加上打分的人的分数\n",
    "    fp.closed\n",
    "#     上一步的字典进行处理得到物品与物品平均分的字典\n",
    "    for itemid in record_dict:\n",
    "        score_dict[itemid] = round(record_dict[itemid][1]/record_dict[itemid][0],3)#小数点后保留3位有效数字\n",
    "    return score_dict"
   ]
  },
  {
   "cell_type": "code",
   "execution_count": 6,
   "metadata": {},
   "outputs": [],
   "source": [
    "scor_dict=get_ave_score(\"../data/ratings15000.csv\")\n",
    "# scor_dict"
   ]
  },
  {
   "cell_type": "markdown",
   "metadata": {},
   "source": [
    "### 获取数据"
   ]
  },
  {
   "cell_type": "code",
   "execution_count": 7,
   "metadata": {},
   "outputs": [],
   "source": [
    "def get_train_data(input_file):\n",
    "    \"\"\"\n",
    "    :param input_file:\n",
    "    input_file:user item rating file\n",
    "    :return:\n",
    "    alist:[(userid,itemid,label),(userid,itemid,label)]\n",
    "    \"\"\"\n",
    "    if not os.path.exists(input_file):\n",
    "        return {}  \n",
    "    score_dict = get_ave_score(input_file)#通过前面的方法获取平均分\n",
    "    neg_dict = {}#负样本集合\n",
    "    pos_dict = {}#正样本集合\n",
    "    train_data = []\n",
    "    linenum = 0\n",
    "    score_thr = 4#正负分界线：4分\n",
    "    fp = open(input_file)\n",
    "    for line in fp:\n",
    "        if linenum == 0:\n",
    "            linenum += 1\n",
    "            continue\n",
    "        item = line.strip().split(',')\n",
    "        if len(item)<4:\n",
    "            continue\n",
    "        userid,itemid,rating = item[0],item[1],float(item[2])\n",
    "        if userid not in pos_dict:#正例的字典\n",
    "            pos_dict[userid] = []\n",
    "        if userid not in neg_dict:#负例的字典\n",
    "            neg_dict[userid] = []\n",
    "        if rating >=score_thr:\n",
    "            pos_dict[userid].append((itemid,1))#这里正样本的格式是（userid，itemid，1）1代表正样本\n",
    "        else:\n",
    "            score = score_dict.get(itemid,0)#如果平均分没有获取到就设置成0\n",
    "            neg_dict[userid].append((itemid,score))#这里负样本的格式是（userid，itemid，平均得分）    \n",
    "    fp.closed\n",
    "    for userid in pos_dict:\n",
    "        data_num = min(len(pos_dict[userid]),len(neg_dict.get(userid,[])))\n",
    "        if data_num > 0:\n",
    "            train_data += [(userid,zuhe[0],zuhe[1]) for zuhe in pos_dict[userid]][:data_num]\n",
    "        else:\n",
    "            continue\n",
    "        #将负样本倒序排好并且取和正样本同样大小的样本集合\n",
    "        sorted_neg_list = sorted(neg_dict[userid],key=lambda element:element[1], reverse=True)[:data_num]\n",
    "        train_data += [(userid,zuhe[0],0)for zuhe in sorted_neg_list]#将最后一个值替换成0\n",
    "    return train_data"
   ]
  },
  {
   "cell_type": "code",
   "execution_count": 8,
   "metadata": {},
   "outputs": [],
   "source": [
    "train_data=get_train_data(\"../data/ratings15000.csv\")\n",
    "# train_data"
   ]
  },
  {
   "cell_type": "markdown",
   "metadata": {},
   "source": [
    "### 将lfm的模型进行训练"
   ]
  },
  {
   "cell_type": "code",
   "execution_count": 9,
   "metadata": {},
   "outputs": [],
   "source": [
    "def lfm_train(train_data,F,alpha,beta,step):\n",
    "    \"\"\"\n",
    "    Args:\n",
    "        train_data: train_data for lfm\n",
    "        F:user vector len,item vector len (两个F是一个值)\n",
    "        alpha:regularization factor\n",
    "        beta:learning rate\n",
    "        step:iteration num \n",
    "    return:\n",
    "        dict:key itemid,  value:list\n",
    "        dict:key userid, value:list\n",
    "    \"\"\"\n",
    "    user_vec = {}\n",
    "    item_vec = {}\n",
    "    for step_index in range(step):#迭代轮次\n",
    "        for data_instance in train_data:\n",
    "            userid,itemid,label = data_instance\n",
    "            if userid not in user_vec:\n",
    "                user_vec[userid] = init_model(F)\n",
    "            if itemid not in item_vec:\n",
    "                item_vec[itemid] = init_model(F)\n",
    "            delta = label - model_predict(user_vec[userid],item_vec[itemid])\n",
    "            for index in range(F):\n",
    "#             相当于损失函数求导：（这里用到了链式求导法则）\n",
    "#这个地址 https://www.bilibili.com/video/av43219418/?p=4可以了解具体算法过程\n",
    "#             beta：学习率 alpha:正则项\n",
    "#             item_vec[itemid][index]物品之间的相似度\n",
    "#             user_vec[userid][index]用户对相似物品的的打分 \n",
    "                user_vec[userid][index] += beta*(delta*item_vec[itemid][index]-alpha*user_vec[userid][index])\n",
    "                item_vec[itemid][index] += beta*(delta*user_vec[userid][index]-alpha*item_vec[itemid][index])\n",
    "            beta = beta*0.9      #学习率衰减\n",
    "    return user_vec,item_vec"
   ]
  },
  {
   "cell_type": "markdown",
   "metadata": {},
   "source": [
    "### 初始化模型"
   ]
  },
  {
   "cell_type": "code",
   "execution_count": 10,
   "metadata": {},
   "outputs": [],
   "source": [
    "def init_model(vector_len):\n",
    "    \"\"\"\n",
    "        vector_len:the len of vector\n",
    "    \"\"\"\n",
    "    return np.random.randn(vector_len)"
   ]
  },
  {
   "cell_type": "markdown",
   "metadata": {},
   "source": [
    "### 计算用户向量和物品向量的余弦夹角"
   ]
  },
  {
   "cell_type": "code",
   "execution_count": 11,
   "metadata": {},
   "outputs": [],
   "source": [
    "def model_predict(user_vector,item_vector):\n",
    "    res = np.dot(user_vector,item_vector)/(np.linalg.norm(user_vector)*np.linalg.norm(item_vector))\n",
    "    return res"
   ]
  },
  {
   "cell_type": "markdown",
   "metadata": {},
   "source": [
    "### 模型训练函数"
   ]
  },
  {
   "cell_type": "code",
   "execution_count": 12,
   "metadata": {},
   "outputs": [],
   "source": [
    "def model_train_process():\n",
    "    train_data = get_train_data(\"../data/ratings15000.csv\")\n",
    "    user_vec,item_vec = lfm_train(train_data,50,0.01,0.1,50)\n",
    "#     print(user_vec[\"1\"])\n",
    "#     print(item_vec[\"2455\"])\n",
    "    recom_result = give_recom_result(user_vec,item_vec,'24')\n",
    "    print(recom_result)\n",
    "#     ana_recom_result(train_data,'24',recom_result)"
   ]
  },
  {
   "cell_type": "markdown",
   "metadata": {},
   "source": [
    "### 模型训练执行"
   ]
  },
  {
   "cell_type": "code",
   "execution_count": 13,
   "metadata": {},
   "outputs": [
    {
     "name": "stdout",
     "output_type": "stream",
     "text": [
      "[-0.66064846 -0.16885769  0.79534224 -1.27571948  0.84113057  0.24479349\n",
      "  1.43179505  0.32890686  1.03915417 -1.38712579  1.48815038 -0.93173227\n",
      "  0.87145757 -0.24535336 -0.69717929 -0.46525241  0.09268469 -0.12284571\n",
      " -1.29893595  1.86794282  0.55676862  0.02324428 -2.19629988  0.24781382\n",
      "  0.67215346 -0.78426479  1.93674938 -1.0061453  -0.10278354 -0.15676927\n",
      " -0.76201603 -0.40614936 -0.80985163 -0.67269515 -0.51470005 -1.59799938\n",
      "  0.37796039 -0.34689199  0.86682136  0.79710087  0.69021231  2.25656631\n",
      " -1.14916437  1.41115855 -0.74669644 -0.18372573 -0.78697867 -1.11539709\n",
      " -0.79728243  0.82415269]\n",
      "[ 0.67435815 -0.27749904  0.16110073  0.04809448  1.25067757  2.61046909\n",
      "  0.84544087  0.36419418  0.42240687  0.35511915 -0.33726155 -0.91387933\n",
      " -0.71393123  0.28262529  0.34511031 -1.49130747 -1.10742634 -1.27262947\n",
      " -0.08070769  0.52028931  1.31620715 -0.72288403  1.38157166 -1.06200667\n",
      "  0.64611597 -0.27037724  0.73061164  0.39454701 -2.02337138  0.20120939\n",
      " -1.30318312 -1.56644232 -1.63046759  0.72853288 -1.01352738 -0.54595687\n",
      " -0.56487433  1.49336911 -0.64097039  1.48450582 -0.29137065 -0.65520236\n",
      "  1.35146701  0.08706581  1.34659697  0.02146231 -0.88935311  0.9694085\n",
      "  0.37386343  0.38821418]\n"
     ]
    }
   ],
   "source": [
    "model_train_process()"
   ]
  },
  {
   "cell_type": "markdown",
   "metadata": {},
   "source": [
    "### 推荐过程"
   ]
  },
  {
   "cell_type": "code",
   "execution_count": 14,
   "metadata": {},
   "outputs": [],
   "source": [
    "def give_recom_result(user_vec,item_vec,userid):\n",
    "    fix_num = 10\n",
    "#     用户如果不在用户模型之中，那么直接返回空数组\n",
    "    if userid not in user_vec:\n",
    "        return []\n",
    "    record = {}#用来存储每一个item和user_vector之间的距离\n",
    "    recom_list = []\n",
    "    user_vector = user_vec[userid]\n",
    "    for itemid in item_vec:\n",
    "#         计算每一个itemid和要推荐的userid对应的向量之间的距离\n",
    "        item_vector = item_vec[itemid]\n",
    "        res = np.dot(user_vector,item_vector)/(np.linalg.norm(user_vector))*(np.linalg.norm(item_vector))\n",
    "        record[itemid] = res\n",
    "    print(record)\n",
    "    for zuhe in sorted(record.iteritems(),key=operator.itemgetter(1),reverse=True)[:fix_num]:\n",
    "        itemid = zuhe[0]\n",
    "        score = round(zuhe[1],3)\n",
    "        recom_list.append((itemid,score))\n",
    "    return recom_list                                                                            "
   ]
  },
  {
   "cell_type": "markdown",
   "metadata": {},
   "source": [
    "### 评估推荐结果"
   ]
  },
  {
   "cell_type": "code",
   "execution_count": null,
   "metadata": {},
   "outputs": [],
   "source": [
    "def ana_recom_result(train_data,userid,recom_list):\n",
    "    item_info = get_item_info(\"../data/movies.csv\")\n",
    "    for data_instance in train_data:\n",
    "        tmp_userid,itemid,label = data_instance\n",
    "        if label == 1 and tmp_userid == userid:\n",
    "            print(item_info[itemid])\n",
    "        print(\"recom result\")\n",
    "        for zuhe in recom_list:\n",
    "            print(item_info[zuhe[0]])"
   ]
  }
 ],
 "metadata": {
  "kernelspec": {
   "display_name": "Python 3",
   "language": "python",
   "name": "python3"
  },
  "language_info": {
   "codemirror_mode": {
    "name": "ipython",
    "version": 3
   },
   "file_extension": ".py",
   "mimetype": "text/x-python",
   "name": "python",
   "nbconvert_exporter": "python",
   "pygments_lexer": "ipython3",
   "version": "3.6.8"
  }
 },
 "nbformat": 4,
 "nbformat_minor": 2
}
